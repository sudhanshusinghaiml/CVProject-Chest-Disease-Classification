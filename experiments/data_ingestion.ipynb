{
 "cells": [
  {
   "cell_type": "code",
   "execution_count": 1,
   "metadata": {},
   "outputs": [],
   "source": [
    "import os"
   ]
  },
  {
   "cell_type": "code",
   "execution_count": 2,
   "metadata": {},
   "outputs": [
    {
     "data": {
      "text/plain": [
       "'c:\\\\gitrepository\\\\Projects-AIML\\\\CVProject-Chest-Disease-Classification\\\\experiments'"
      ]
     },
     "execution_count": 2,
     "metadata": {},
     "output_type": "execute_result"
    }
   ],
   "source": [
    "os.getcwd()"
   ]
  },
  {
   "cell_type": "code",
   "execution_count": 3,
   "metadata": {},
   "outputs": [
    {
     "data": {
      "text/plain": [
       "'c:\\\\gitrepository\\\\Projects-AIML\\\\CVProject-Chest-Disease-Classification'"
      ]
     },
     "execution_count": 3,
     "metadata": {},
     "output_type": "execute_result"
    }
   ],
   "source": [
    "os.chdir('../')\n",
    "os.getcwd()"
   ]
  },
  {
   "cell_type": "code",
   "execution_count": 4,
   "metadata": {},
   "outputs": [],
   "source": [
    "from dataclasses import dataclass\n",
    "from pathlib import Path\n",
    "\n",
    "@dataclass(frozen=True)\n",
    "class DataIngestionConfig:\n",
    "    root_directory: Path\n",
    "    source_url: str\n",
    "    downloaded_data_file: Path\n",
    "    unzip_directory: Path"
   ]
  },
  {
   "cell_type": "code",
   "execution_count": 5,
   "metadata": {},
   "outputs": [],
   "source": [
    "from src.cnn_classifier.constants import *\n",
    "from src.cnn_classifier.utils.common import read_yaml, create_directories"
   ]
  },
  {
   "cell_type": "code",
   "execution_count": 6,
   "metadata": {},
   "outputs": [],
   "source": [
    "class ConfigurationManager:\n",
    "    def __init__(self, config_path = CONFIG_FILE_PATH, params_path = PARAMS_FILE_PATH):\n",
    "        self.config = read_yaml(config_path)\n",
    "        self.params = read_yaml(params_path)\n",
    "        create_directories(directory_list=[self.config.artifacts_root])\n",
    "\n",
    "    def get_data_ingestion_config(self) -> DataIngestionConfig:\n",
    "        \n",
    "        config = self.config.data_ingestion\n",
    "        create_directories(directory_list = [config.root_directory])\n",
    "\n",
    "        data_ingestion_config = DataIngestionConfig(\n",
    "            root_directory=config.root_directory,\n",
    "            source_url= config.source_url,\n",
    "            downloaded_data_file= config.downloaded_data_file,\n",
    "            unzip_directory = config.unzip_directory\n",
    "        )\n",
    "\n",
    "        return data_ingestion_config"
   ]
  },
  {
   "cell_type": "code",
   "execution_count": 7,
   "metadata": {},
   "outputs": [],
   "source": [
    "import os\n",
    "import zipfile\n",
    "import gdown\n",
    "from src.cnn_classifier.logger import logging\n",
    "from src.cnn_classifier.utils.common import get_size\n",
    "from src.cnn_classifier.entity.config_entity import DataIngestionConfig"
   ]
  },
  {
   "cell_type": "code",
   "execution_count": 8,
   "metadata": {},
   "outputs": [],
   "source": [
    "class DataIngestion:\n",
    "    def __init__(self, config: DataIngestionConfig):\n",
    "        self.config = config\n",
    "\n",
    "    def download_data(self) -> str:\n",
    "        \"\"\"\n",
    "        Code feteches the data and downloads from google drive\n",
    "        \"\"\"\n",
    "        try:\n",
    "            dataset_url = self.config.source_url\n",
    "            zipped_file = self.config.downloaded_data_file\n",
    "            os.makedirs(self.config.root_directory, exist_ok=True)\n",
    "            file_id = dataset_url.split(\"/\")[-2]\n",
    "            logging.info(f\"Started Downloading data from {dataset_url} into file {zipped_file}\")\n",
    "            url = f'https://drive.google.com/uc?id={file_id}'\n",
    "            gdown.download(url, zipped_file)\n",
    "            logging.info(f\"Successfully downloaded data from {dataset_url} into file {zipped_file}\")\n",
    "        except Exception as e:\n",
    "            raise e\n",
    "        \n",
    "\n",
    "    def extract_zip_file(self):\n",
    "        \"\"\"\n",
    "        Extracts the zip file into the data directory and returns None\n",
    "        \"\"\"\n",
    "        try:\n",
    "            unzip_file_path = self.config.unzip_directory\n",
    "            os.makedirs(unzip_file_path, exist_ok=True)\n",
    "            with zipfile.ZipFile(self.config.downloaded_data_file, 'r') as zip_file:\n",
    "                zip_file.extractall(unzip_file_path)\n",
    "            logging.info(f\"Unzipped file from {self.config.downloaded_data_file} to file {unzip_file_path}\")\n",
    "        except Exception as e:\n",
    "            raise e"
   ]
  },
  {
   "cell_type": "code",
   "execution_count": 9,
   "metadata": {},
   "outputs": [],
   "source": [
    "from src.cnn_classifier.config.configuration import ConfigurationManager\n",
    "from src.cnn_classifier.components.data_ingestion import DataIngestion\n",
    "from src.cnn_classifier.logger import logging\n",
    "\n",
    "STAGE_NAME = \"Data Ingestion stage\"\n",
    "\n",
    "class DataIngestionTrainingPipeline:\n",
    "    def __init__(self):\n",
    "        pass\n",
    "\n",
    "    def main(self):\n",
    "        config = ConfigurationManager()\n",
    "        data_ingestion_config = config.get_data_ingestion_config()\n",
    "        data_ingestion = DataIngestion(config=data_ingestion_config)\n",
    "        data_ingestion.download_data()\n",
    "        data_ingestion.extract_zip_file()"
   ]
  },
  {
   "cell_type": "code",
   "execution_count": 10,
   "metadata": {},
   "outputs": [
    {
     "name": "stdout",
     "output_type": "stream",
     "text": [
      "[2024-05-24 21:25:51,761: INFO: 259450960: >>>>>> stage Data Ingestion stage started <<<<<<]\n",
      "[2024-05-24 21:25:51,785: INFO: common: YAML file - config\\config.yaml loaded successfully]\n",
      "[2024-05-24 21:25:51,802: INFO: common: YAML file - params.yaml loaded successfully]\n",
      "[2024-05-24 21:25:51,804: INFO: common: created directory at: artifacts]\n",
      "[2024-05-24 21:25:51,806: INFO: common: created directory at: artifacts/data_ingestion]\n",
      "[2024-05-24 21:25:51,806: INFO: data_ingestion: Started Downloading data from https://drive.google.com/file/d/1oiTnXuWyL5oN6E4d-EmyplBj68ife5MJ/view?usp=drive_link into artifacts/data_ingestion/data.zip]\n"
     ]
    },
    {
     "name": "stderr",
     "output_type": "stream",
     "text": [
      "Downloading...\n",
      "From (original): https://drive.google.com/uc?id=1oiTnXuWyL5oN6E4d-EmyplBj68ife5MJ\n",
      "From (redirected): https://drive.google.com/uc?id=1oiTnXuWyL5oN6E4d-EmyplBj68ife5MJ&confirm=t&uuid=68c5d813-578b-4b99-8a4c-b0c434a643c9\n",
      "To: c:\\gitrepository\\Projects-AIML\\CVProject-Chest-Disease-Classification\\artifacts\\data_ingestion\\data.zip\n",
      "100%|██████████| 49.0M/49.0M [00:14<00:00, 3.29MB/s]\n"
     ]
    },
    {
     "name": "stdout",
     "output_type": "stream",
     "text": [
      "[2024-05-24 21:26:09,271: INFO: data_ingestion: Successfully downloaded data from https://drive.google.com/file/d/1oiTnXuWyL5oN6E4d-EmyplBj68ife5MJ/view?usp=drive_link into file artifacts/data_ingestion/data.zip]\n",
      "[2024-05-24 21:26:10,890: INFO: data_ingestion: Unzipped file from artifacts/data_ingestion/data.zip to file artifacts/data_ingestion]\n",
      "[2024-05-24 21:26:10,894: INFO: 259450960: >>>>>> stage Data Ingestion stage completed <<<<<<\n",
      "\n",
      "x==========x]\n"
     ]
    }
   ],
   "source": [
    "try:\n",
    "    logging.info(f\">>>>>> stage {STAGE_NAME} started <<<<<<\")\n",
    "    obj = DataIngestionTrainingPipeline()\n",
    "    obj.main()\n",
    "    logging.info(f\">>>>>> stage {STAGE_NAME} completed <<<<<<\\n\\nx==========x\")\n",
    "except Exception as e:\n",
    "    logging.exception(e)\n",
    "    raise e"
   ]
  }
 ],
 "metadata": {
  "kernelspec": {
   "display_name": "chest-disease-classification",
   "language": "python",
   "name": "python3"
  },
  "language_info": {
   "codemirror_mode": {
    "name": "ipython",
    "version": 3
   },
   "file_extension": ".py",
   "mimetype": "text/x-python",
   "name": "python",
   "nbconvert_exporter": "python",
   "pygments_lexer": "ipython3",
   "version": "3.10.14"
  }
 },
 "nbformat": 4,
 "nbformat_minor": 2
}
