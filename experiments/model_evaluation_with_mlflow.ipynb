{
 "cells": [
  {
   "cell_type": "code",
   "execution_count": null,
   "metadata": {},
   "outputs": [],
   "source": [
    "import os"
   ]
  },
  {
   "cell_type": "code",
   "execution_count": null,
   "metadata": {},
   "outputs": [],
   "source": [
    "%pwd"
   ]
  },
  {
   "cell_type": "code",
   "execution_count": null,
   "metadata": {},
   "outputs": [],
   "source": [
    "os.chdir(\"../\")"
   ]
  },
  {
   "cell_type": "code",
   "execution_count": null,
   "metadata": {},
   "outputs": [],
   "source": [
    "%pwd"
   ]
  },
  {
   "cell_type": "code",
   "execution_count": null,
   "metadata": {},
   "outputs": [],
   "source": [
    "os.environ[\"MLFLOW_TRACKING_URI\"]=\"https://dagshub.com/sudhanshusinghaiml/CVProject-Chest-Disease-Classification.mlflow\"\n",
    "os.environ[\"MLFLOW_TRACKING_USERNAME\"]=<username>\n",
    "os.environ[\"MLFLOW_TRACKING_PASSWORD\"]=<password>"
   ]
  },
  {
   "cell_type": "code",
   "execution_count": null,
   "metadata": {},
   "outputs": [],
   "source": [
    "import tensorflow as tf"
   ]
  },
  {
   "cell_type": "code",
   "execution_count": null,
   "metadata": {},
   "outputs": [],
   "source": [
    "model = tf.keras.models.load_model(\"artifacts/training/model.h5\")"
   ]
  },
  {
   "cell_type": "code",
   "execution_count": null,
   "metadata": {},
   "outputs": [],
   "source": [
    "from dataclasses import dataclass\n",
    "from pathlib import Path\n",
    "\n",
    "@dataclass(frozen=True)\n",
    "class ModelEvaluationConfig:\n",
    "    \"\"\"\n",
    "    This class encapsulates the variables associated with Model Evaluation\n",
    "    \"\"\"\n",
    "\n",
    "    path_of_model: Path\n",
    "    training_data: Path\n",
    "    all_params: dict\n",
    "    mlflow_uri: str\n",
    "    params_image_size: list\n",
    "    params_batch_size: int"
   ]
  },
  {
   "cell_type": "code",
   "execution_count": null,
   "metadata": {},
   "outputs": [],
   "source": [
    "from pathlib import Path\n",
    "from src.cnn_classifier.constants import CONFIG_FILE_PATH, PARAMS_FILE_PATH\n",
    "from src.cnn_classifier.utils.common import read_yaml, create_directories\n",
    "from src.cnn_classifier.entity.config_entity import ModelEvaluationConfig"
   ]
  },
  {
   "cell_type": "code",
   "execution_count": null,
   "metadata": {},
   "outputs": [],
   "source": [
    "\"\"\"\n",
    "This is the configuration manager for all the stages of pipelines for this Projects.\n",
    "It will have all the configuration methods encapsulated in a class\n",
    "\"\"\"\n",
    "class ConfigurationManager:\n",
    "    \"\"\"\n",
    "    This is the configuration manager for all the stages of pipelines for this Projects\n",
    "    \"\"\"\n",
    "\n",
    "    def __init__(self, config_path=CONFIG_FILE_PATH, params_path=PARAMS_FILE_PATH):\n",
    "        self.config = read_yaml(config_path)\n",
    "        self.params = read_yaml(params_path)\n",
    "        create_directories(directory_list=[self.config.artifacts_root])\n",
    "\n",
    "    def get_model_evaluation_config(self) -> ModelEvaluationConfig:\n",
    "        \"\"\"This method is to fetch the config details for Model Evaluation\"\"\"\n",
    "\n",
    "        model_evaluation_config = ModelEvaluationConfig(\n",
    "            path_of_model=self.config.model_training.trained_model_path,\n",
    "            training_data=self.config.data_ingestion.downloaded_data_file,\n",
    "            all_params=self.params,\n",
    "            mlflow_uri=self.config.model_training.mlflow_uri,\n",
    "            params_image_size=self.params.IMAGE_SIZE,\n",
    "            params_batch_size=self.params.BATCH_SIZE,\n",
    "        )\n",
    "\n",
    "        return model_evaluation_config"
   ]
  },
  {
   "cell_type": "code",
   "execution_count": null,
   "metadata": {},
   "outputs": [],
   "source": [
    "from urllib.parse import urlparse\n",
    "from pathlib import Path\n",
    "import mlflow\n",
    "import mlflow.keras\n",
    "import tensorflow as tf\n",
    "from src.cnn_classifier.entity.config_entity import ModelEvaluationConfig\n",
    "from src.cnn_classifier.utils.common import save_json"
   ]
  },
  {
   "cell_type": "code",
   "execution_count": null,
   "metadata": {},
   "outputs": [],
   "source": [
    "class ModelEvaluation:\n",
    "    \"\"\"This class encapsulates all the methods for model evaluation\"\"\"\n",
    "\n",
    "    def __init__(self, config: ModelEvaluationConfig):\n",
    "        self.config = config\n",
    "        self.validation_data_generator = None\n",
    "        self.score = None\n",
    "        self.model = None\n",
    "\n",
    "    def _valid_generator(self):\n",
    "        \"\"\"This method is to process images before model evaluation\"\"\"\n",
    "\n",
    "        data_generator_kwargs = dict(\n",
    "            rescale=1.0 / 255, validation_split=self.config.params_validation_split\n",
    "        )\n",
    "\n",
    "        data_flow_kwargs = dict(\n",
    "            target_size=self.config.params_image_size[:-1],\n",
    "            batch_size=self.config.params_batch_size,\n",
    "            interpolation=self.config.params_interpolation,\n",
    "        )\n",
    "\n",
    "        validation_image_datagenerator = (\n",
    "            tf.keras.preprocessing.image.ImageDataGenerator(**data_generator_kwargs)\n",
    "        )\n",
    "\n",
    "        self.validation_data_generator = (\n",
    "            validation_image_datagenerator.flow_from_directory(\n",
    "                directory=self.config.training_data,\n",
    "                subset=self.config.params_validation_subset,\n",
    "                shuffle=self.config.params_shuffle,\n",
    "                **data_flow_kwargs,\n",
    "            )\n",
    "        )\n",
    "\n",
    "    @staticmethod\n",
    "    def load_model(path: Path) -> tf.keras.Model:\n",
    "        \"\"\"Loading the saved model from directory\"\"\"\n",
    "        return tf.keras.models.load_model(path)\n",
    "\n",
    "    def evaluation(self):\n",
    "        \"\"\"Loads model and generates loss and accuracy score\"\"\"\n",
    "        self.model = self.load_model(self.config.path_of_model)\n",
    "        self._valid_generator()\n",
    "        self.score = self.model.evaluate(self.validation_data_generator)\n",
    "        self.save_score()\n",
    "\n",
    "    def save_score(self):\n",
    "        \"\"\"Saves the score in json format\"\"\"\n",
    "        scores = {\"loss\": self.score[0], \"accuracy\": self.score[1]}\n",
    "        save_json(json_file_path=Path(\"scores.json\"), data=scores)\n",
    "\n",
    "    def log_into_mlflow(self):\n",
    "        \"\"\"This method registers the model scores and parametes into ML Flow\"\"\"\n",
    "        mlflow.set_registry_uri(self.config.model_training.mlflow_uri)\n",
    "        tracking_url_type_store = urlparse(mlflow.get_tracking_uri()).scheme\n",
    "\n",
    "        with mlflow.start_run():\n",
    "            mlflow.log_params(self.config.all_params)\n",
    "            mlflow.log_metrics({\"loss\": self.score[0], \"accuracy\": self.score[1]})\n",
    "            # Model registry does not work with file store\n",
    "            if tracking_url_type_store != \"file\":\n",
    "                # Register the model\n",
    "                # There are other ways to use the Model Registry, which depends on the use case,\n",
    "                # please refer to the doc for more information:\n",
    "                # https://mlflow.org/docs/latest/model-registry.html#api-workflow\n",
    "                mlflow.keras.log_model(\n",
    "                    self.model, \"model\", registered_model_name=\"VGG16Model\"\n",
    "                )\n",
    "            else:\n",
    "                mlflow.keras.log_model(self.model, \"model\")\n"
   ]
  },
  {
   "cell_type": "code",
   "execution_count": null,
   "metadata": {},
   "outputs": [],
   "source": [
    "try:\n",
    "    config = ConfigurationManager()\n",
    "    eval_config = config.get_model_evaluation_config()\n",
    "    evaluation = ModelEvaluation(eval_config)\n",
    "    evaluation.evaluation()\n",
    "    evaluation.log_into_mlflow()\n",
    "except Exception as e:\n",
    "   raise e"
   ]
  }
 ],
 "metadata": {
  "kernelspec": {
   "display_name": "chest",
   "language": "python",
   "name": "python3"
  },
  "language_info": {
   "codemirror_mode": {
    "name": "ipython",
    "version": 3
   },
   "file_extension": ".py",
   "mimetype": "text/x-python",
   "name": "python",
   "nbconvert_exporter": "python",
   "pygments_lexer": "ipython3",
   "version": "3.8.18"
  }
 },
 "nbformat": 4,
 "nbformat_minor": 2
}
