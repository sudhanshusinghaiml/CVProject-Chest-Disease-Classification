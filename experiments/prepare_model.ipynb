{
 "cells": [
  {
   "cell_type": "markdown",
   "metadata": {},
   "source": [
    "- Update config.yaml\n",
    "- Update params.yaml\n",
    "- Update the entity\n",
    "- Update the configuration manager in src config\n",
    "- Update the components\n",
    "- Update the pipeline\n",
    "- Update the main.py\n",
    "- Update the dvc.yaml"
   ]
  },
  {
   "cell_type": "code",
   "execution_count": 1,
   "metadata": {},
   "outputs": [
    {
     "data": {
      "text/plain": [
       "'c:\\\\gitrepository\\\\Projects-AIML\\\\CVProject-Chest-Disease-Classification\\\\experiments'"
      ]
     },
     "execution_count": 1,
     "metadata": {},
     "output_type": "execute_result"
    }
   ],
   "source": [
    "import os\n",
    "os.getcwd()"
   ]
  },
  {
   "cell_type": "code",
   "execution_count": 2,
   "metadata": {},
   "outputs": [
    {
     "data": {
      "text/plain": [
       "'c:\\\\gitrepository\\\\Projects-AIML\\\\CVProject-Chest-Disease-Classification'"
      ]
     },
     "execution_count": 2,
     "metadata": {},
     "output_type": "execute_result"
    }
   ],
   "source": [
    "os.chdir(\"../\")\n",
    "os.getcwd()"
   ]
  },
  {
   "cell_type": "code",
   "execution_count": 3,
   "metadata": {},
   "outputs": [],
   "source": [
    "from dataclasses import dataclass\n",
    "from pathlib import Path"
   ]
  },
  {
   "cell_type": "code",
   "execution_count": 4,
   "metadata": {},
   "outputs": [],
   "source": [
    "@dataclass(frozen=True)\n",
    "class PrepareModelConfig:\n",
    "    \"\"\"\n",
    "    This class encapsulates the variables configuration\n",
    "    \"\"\"\n",
    "    root_directory: Path\n",
    "    model_path: Path\n",
    "    updated_model_path: Path\n",
    "    params_image_size: list\n",
    "    params_learning_rate: float\n",
    "    params_include_top: bool\n",
    "    params_weights: str\n",
    "    params_classes: int\n"
   ]
  },
  {
   "cell_type": "code",
   "execution_count": 5,
   "metadata": {},
   "outputs": [],
   "source": [
    "\n",
    "from src.cnn_classifier.logger import logging"
   ]
  },
  {
   "cell_type": "code",
   "execution_count": 6,
   "metadata": {},
   "outputs": [],
   "source": [
    "\"\"\"\n",
    "This is the configuration manager for all the stages of pipelines for this Projects.\n",
    "It will have all the configuration methods encapsulated in a class\n",
    "\"\"\"\n",
    "from pathlib import Path\n",
    "from src.cnn_classifier.constants import CONFIG_FILE_PATH, PARAMS_FILE_PATH\n",
    "from src.cnn_classifier.utils.common import read_yaml, create_directories\n",
    "from src.cnn_classifier.entity.config_entity import PrepareModelArchitectureConfig\n",
    "\n",
    "class ConfigurationManager:\n",
    "    \"\"\"\n",
    "    This is the configuration manager for all the stages of pipelines for this Projects\n",
    "    \"\"\"\n",
    "\n",
    "    def __init__(self, config_path=CONFIG_FILE_PATH, params_path=PARAMS_FILE_PATH):\n",
    "        self.config = read_yaml(config_path)\n",
    "        self.params = read_yaml(params_path)\n",
    "        create_directories(directory_list=[self.config.artifacts_root])\n",
    "    \n",
    "    def get_model_config(self) -> PrepareModelArchitectureConfig:\n",
    "        \"\"\"\n",
    "        This method is to fetch the config details for Pretrained Models\n",
    "        \"\"\"\n",
    "        config = self.config.prepare_model\n",
    "        create_directories([config.root_directory])\n",
    "\n",
    "        prepare_model_config = PrepareModelArchitectureConfig(\n",
    "            root_directory = Path(config.root_directory)\n",
    "            ,model_path = Path(config.model_path)\n",
    "            ,updated_model_path = Path(config.updated_model_path)\n",
    "            ,params_image_size = self.params.IMAGE_SIZE\n",
    "            ,params_learning_rate = self.params.LEARNING_RATE\n",
    "            ,params_include_top = self.params.INCLUDE_TOP\n",
    "            ,params_weights = self.params.WEIGHTS\n",
    "            ,params_classes = self.params.CLASSES\n",
    "        )\n",
    "\n",
    "        return prepare_model_config"
   ]
  },
  {
   "cell_type": "code",
   "execution_count": 7,
   "metadata": {},
   "outputs": [],
   "source": [
    "from pathlib import Path\n",
    "import tensorflow as tf\n",
    "from src.cnn_classifier.entity.config_entity import  PrepareModelArchitectureConfig"
   ]
  },
  {
   "cell_type": "code",
   "execution_count": 8,
   "metadata": {},
   "outputs": [],
   "source": [
    "class PrepareModelArchitecture:\n",
    "    \"\"\"\n",
    "    This Class encapsulates the methods for preparing the base models from VGG!6\n",
    "    \"\"\"\n",
    "    def __init__(self, config: PrepareModelArchitectureConfig):\n",
    "        self.config = config\n",
    "        self.model: tf.keras.Model = None\n",
    "        self.updated_model: tf.keras.Model = None\n",
    "\n",
    "    def get_base_model(self):\n",
    "        \"\"\"\n",
    "        This fetches the pre-trained model from Keras and saves it in our directory\n",
    "        \"\"\"\n",
    "        self.model = tf.keras.applications.vgg16.VGG16(\n",
    "            input_shape=self.config.params_image_size,\n",
    "            weights=self.config.params_weights,\n",
    "            include_top=self.config.params_include_top\n",
    "        )\n",
    "\n",
    "        self.save_model(path=self.config.model_path, model=self.model)\n",
    "\n",
    "    @staticmethod\n",
    "    def _prepare_full_model(model: tf.keras.models,\n",
    "                            classes: int,\n",
    "                            freeze_all: bool,\n",
    "                            freeze_till: int,\n",
    "                            learning_rate: float) -> tf.keras.Model:\n",
    "        \"\"\"\n",
    "        This is the private method that freezes the CNN layers and trains \n",
    "        the top most layers of Pretrained models\n",
    "        \"\"\"\n",
    "        if freeze_all:\n",
    "            for layer in model.layers:\n",
    "                layer.trainable = False\n",
    "        elif (freeze_till is not None) and (freeze_till > 0):\n",
    "            for layer in model.layers[:-freeze_till]:\n",
    "                layer.trainable = False\n",
    "\n",
    "        flatten_in = tf.keras.layers.Flatten()(model.output)\n",
    "        prediction = tf.keras.layers.Dense(\n",
    "            units=classes,\n",
    "            activation=\"softmax\"\n",
    "        )(flatten_in)\n",
    "\n",
    "        full_model = tf.keras.models.Model(\n",
    "            inputs=model.input,\n",
    "            outputs=prediction\n",
    "        )\n",
    "\n",
    "        full_model.compile(\n",
    "            optimizer=tf.keras.optimizers.SGD(learning_rate=learning_rate),\n",
    "            loss=tf.keras.losses.CategoricalCrossentropy(),\n",
    "            metrics=[\"accuracy\"]\n",
    "        )\n",
    "\n",
    "        full_model.summary()\n",
    "        return full_model\n",
    "\n",
    "    def update_model(self):\n",
    "        \"\"\"\n",
    "        This method calls the private method for preparing the updated model\n",
    "        \"\"\"\n",
    "        self.updated_model = self._prepare_full_model(\n",
    "            model=self.model,\n",
    "            classes=self.config.params_classes,\n",
    "            freeze_all=True,\n",
    "            freeze_till=None,\n",
    "            learning_rate=self.config.params_learning_rate\n",
    "        )\n",
    "\n",
    "        self.save_model(path=self.config.updated_model_path, model=self.updated_model)\n",
    "\n",
    "        \n",
    "    @staticmethod\n",
    "    def save_model(path: Path, model: tf.keras.Model):\n",
    "        \"\"\" This method is used to save the model - pre-trained model or finetuned model\"\"\"\n",
    "        model.save(path)\n"
   ]
  },
  {
   "cell_type": "code",
   "execution_count": 9,
   "metadata": {},
   "outputs": [],
   "source": [
    "STAGE_NAME = \"Prepare model architecture\"\n",
    "\n",
    "\n",
    "class PrepareModelArchitecturePipeline:\n",
    "    \"\"\"This class and its methods triggers the PrepareModel pipeline to setup model\"\"\"\n",
    "    def __init__(self):\n",
    "        pass\n",
    "\n",
    "    def main(self):\n",
    "        \"\"\"\n",
    "        This method triggers all the functions from PrepareModel class\n",
    "        \"\"\"\n",
    "        config = ConfigurationManager()\n",
    "        prepare_model_config = config.get_model_config()\n",
    "        prepare_model = PrepareModelArchitecture(config=prepare_model_config)\n",
    "        prepare_model.get_base_model()\n",
    "        prepare_model.update_model()"
   ]
  },
  {
   "cell_type": "code",
   "execution_count": 10,
   "metadata": {},
   "outputs": [
    {
     "name": "stdout",
     "output_type": "stream",
     "text": [
      "[2024-05-23 10:43:02,345: INFO: 610368863: *******************]\n",
      "[2024-05-23 10:43:02,346: INFO: 610368863: >>>>>> Started Prepare model architecture <<<<<<]\n",
      "[2024-05-23 10:43:02,351: INFO: common: YAML file - config\\config.yaml loaded successfully]\n",
      "[2024-05-23 10:43:02,356: INFO: common: YAML file - params.yaml loaded successfully]\n",
      "[2024-05-23 10:43:02,358: INFO: common: created directory at: artifacts]\n",
      "[2024-05-23 10:43:02,360: INFO: common: created directory at: artifacts/prepare_model]\n",
      "[2024-05-23 10:43:02,975: WARNING: saving_utils: Compiled the loaded model, but the compiled metrics have yet to be built. `model.compile_metrics` will be empty until you train or evaluate the model.]\n",
      "Model: \"model\"\n",
      "_________________________________________________________________\n",
      " Layer (type)                Output Shape              Param #   \n",
      "=================================================================\n",
      " input_1 (InputLayer)        [(None, 224, 224, 3)]     0         \n",
      "                                                                 \n",
      " block1_conv1 (Conv2D)       (None, 224, 224, 64)      1792      \n",
      "                                                                 \n",
      " block1_conv2 (Conv2D)       (None, 224, 224, 64)      36928     \n",
      "                                                                 \n",
      " block1_pool (MaxPooling2D)  (None, 112, 112, 64)      0         \n",
      "                                                                 \n",
      " block2_conv1 (Conv2D)       (None, 112, 112, 128)     73856     \n",
      "                                                                 \n",
      " block2_conv2 (Conv2D)       (None, 112, 112, 128)     147584    \n",
      "                                                                 \n",
      " block2_pool (MaxPooling2D)  (None, 56, 56, 128)       0         \n",
      "                                                                 \n",
      " block3_conv1 (Conv2D)       (None, 56, 56, 256)       295168    \n",
      "                                                                 \n",
      " block3_conv2 (Conv2D)       (None, 56, 56, 256)       590080    \n",
      "                                                                 \n",
      " block3_conv3 (Conv2D)       (None, 56, 56, 256)       590080    \n",
      "                                                                 \n",
      " block3_pool (MaxPooling2D)  (None, 28, 28, 256)       0         \n",
      "                                                                 \n",
      " block4_conv1 (Conv2D)       (None, 28, 28, 512)       1180160   \n",
      "                                                                 \n",
      " block4_conv2 (Conv2D)       (None, 28, 28, 512)       2359808   \n",
      "                                                                 \n",
      " block4_conv3 (Conv2D)       (None, 28, 28, 512)       2359808   \n",
      "                                                                 \n",
      " block4_pool (MaxPooling2D)  (None, 14, 14, 512)       0         \n",
      "                                                                 \n",
      " block5_conv1 (Conv2D)       (None, 14, 14, 512)       2359808   \n",
      "                                                                 \n",
      " block5_conv2 (Conv2D)       (None, 14, 14, 512)       2359808   \n",
      "                                                                 \n",
      " block5_conv3 (Conv2D)       (None, 14, 14, 512)       2359808   \n",
      "                                                                 \n",
      " block5_pool (MaxPooling2D)  (None, 7, 7, 512)         0         \n",
      "                                                                 \n",
      " flatten (Flatten)           (None, 25088)             0         \n",
      "                                                                 \n",
      " dense (Dense)               (None, 2)                 50178     \n",
      "                                                                 \n",
      "=================================================================\n",
      "Total params: 14,764,866\n",
      "Trainable params: 50,178\n",
      "Non-trainable params: 14,714,688\n",
      "_________________________________________________________________\n",
      "[2024-05-23 10:43:03,351: INFO: 610368863: >>>>>> Prepare model architecture completed <<<<<<\n",
      "\n",
      "x==========x]\n"
     ]
    }
   ],
   "source": [
    "STAGE_NAME = \"Prepare model architecture\"\n",
    "\n",
    "try:\n",
    "    logging.info(\"*******************\")\n",
    "    logging.info(\">>>>>> Started %s <<<<<<\", STAGE_NAME)\n",
    "    obj = PrepareModelArchitecturePipeline()\n",
    "    obj.main()\n",
    "    logging.info(\">>>>>> %s completed <<<<<<\\n\\nx==========x\", STAGE_NAME)\n",
    "except Exception as e:\n",
    "    logging.exception(e)\n",
    "    raise e"
   ]
  }
 ],
 "metadata": {
  "kernelspec": {
   "display_name": "chest-disease-classification",
   "language": "python",
   "name": "python3"
  },
  "language_info": {
   "codemirror_mode": {
    "name": "ipython",
    "version": 3
   },
   "file_extension": ".py",
   "mimetype": "text/x-python",
   "name": "python",
   "nbconvert_exporter": "python",
   "pygments_lexer": "ipython3",
   "version": "3.10.14"
  }
 },
 "nbformat": 4,
 "nbformat_minor": 2
}
