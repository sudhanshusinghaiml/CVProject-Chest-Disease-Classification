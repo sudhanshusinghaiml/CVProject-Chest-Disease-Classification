{
 "cells": [
  {
   "cell_type": "code",
   "execution_count": 1,
   "metadata": {},
   "outputs": [],
   "source": [
    "import gdown"
   ]
  },
  {
   "cell_type": "code",
   "execution_count": 2,
   "metadata": {},
   "outputs": [],
   "source": [
    "data_url = 'https://drive.google.com/file/d/1oiTnXuWyL5oN6E4d-EmyplBj68ife5MJ/view?usp=drive_link'"
   ]
  },
  {
   "cell_type": "code",
   "execution_count": 3,
   "metadata": {},
   "outputs": [
    {
     "data": {
      "text/plain": [
       "str"
      ]
     },
     "execution_count": 3,
     "metadata": {},
     "output_type": "execute_result"
    }
   ],
   "source": [
    "type(data_url)"
   ]
  },
  {
   "cell_type": "code",
   "execution_count": 4,
   "metadata": {},
   "outputs": [
    {
     "data": {
      "text/plain": [
       "['https:',\n",
       " '',\n",
       " 'drive.google.com',\n",
       " 'file',\n",
       " 'd',\n",
       " '1oiTnXuWyL5oN6E4d-EmyplBj68ife5MJ',\n",
       " 'view?usp=drive_link']"
      ]
     },
     "execution_count": 4,
     "metadata": {},
     "output_type": "execute_result"
    }
   ],
   "source": [
    "data_url.split('/')"
   ]
  },
  {
   "cell_type": "code",
   "execution_count": 5,
   "metadata": {},
   "outputs": [
    {
     "data": {
      "text/plain": [
       "'1oiTnXuWyL5oN6E4d-EmyplBj68ife5MJ'"
      ]
     },
     "execution_count": 5,
     "metadata": {},
     "output_type": "execute_result"
    }
   ],
   "source": [
    "file_id = data_url.split('/')[-2]\n",
    "file_id"
   ]
  },
  {
   "cell_type": "code",
   "execution_count": 6,
   "metadata": {},
   "outputs": [
    {
     "name": "stderr",
     "output_type": "stream",
     "text": [
      "Downloading...\n",
      "From (original): https://drive.google.com/uc?id=1oiTnXuWyL5oN6E4d-EmyplBj68ife5MJ\n",
      "From (redirected): https://drive.google.com/uc?id=1oiTnXuWyL5oN6E4d-EmyplBj68ife5MJ&confirm=t&uuid=2a6366a9-2b0e-4237-9f11-7314d673e200\n",
      "To: c:\\gitrepository\\Projects-AIML\\CVProject-Chest-Disease-Classification\\experiments\\chest_disease_dataset.zip\n",
      "100%|██████████| 49.0M/49.0M [00:13<00:00, 3.53MB/s]\n"
     ]
    },
    {
     "data": {
      "text/plain": [
       "'chest_disease_dataset.zip'"
      ]
     },
     "execution_count": 6,
     "metadata": {},
     "output_type": "execute_result"
    }
   ],
   "source": [
    "output = 'chest_disease_dataset.zip'\n",
    "url = f'https://drive.google.com/uc?id={file_id}'\n",
    "gdown.download(url, output)"
   ]
  }
 ],
 "metadata": {
  "kernelspec": {
   "display_name": "chest-disease-classification",
   "language": "python",
   "name": "python3"
  },
  "language_info": {
   "codemirror_mode": {
    "name": "ipython",
    "version": 3
   },
   "file_extension": ".py",
   "mimetype": "text/x-python",
   "name": "python",
   "nbconvert_exporter": "python",
   "pygments_lexer": "ipython3",
   "version": "3.10.14"
  }
 },
 "nbformat": 4,
 "nbformat_minor": 2
}
